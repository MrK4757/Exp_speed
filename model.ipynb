{
 "cells": [
  {
   "cell_type": "markdown",
   "metadata": {},
   "source": [
    "## Loading essential libraries"
   ]
  },
  {
   "cell_type": "code",
   "execution_count": 1,
   "metadata": {},
   "outputs": [
    {
     "name": "stderr",
     "output_type": "stream",
     "text": [
      "2024-09-10 13:42:21.357669: E external/local_xla/xla/stream_executor/cuda/cuda_fft.cc:485] Unable to register cuFFT factory: Attempting to register factory for plugin cuFFT when one has already been registered\n",
      "2024-09-10 13:42:21.374530: E external/local_xla/xla/stream_executor/cuda/cuda_dnn.cc:8454] Unable to register cuDNN factory: Attempting to register factory for plugin cuDNN when one has already been registered\n",
      "2024-09-10 13:42:21.379431: E external/local_xla/xla/stream_executor/cuda/cuda_blas.cc:1452] Unable to register cuBLAS factory: Attempting to register factory for plugin cuBLAS when one has already been registered\n",
      "2024-09-10 13:42:21.392114: I tensorflow/core/platform/cpu_feature_guard.cc:210] This TensorFlow binary is optimized to use available CPU instructions in performance-critical operations.\n",
      "To enable the following instructions: AVX2 FMA, in other operations, rebuild TensorFlow with the appropriate compiler flags.\n",
      "2024-09-10 13:42:22.169165: W tensorflow/compiler/tf2tensorrt/utils/py_utils.cc:38] TF-TRT Warning: Could not find TensorRT\n"
     ]
    }
   ],
   "source": [
    "import tensorflow as tf\n",
    "from tensorflow.keras.optimizers import Adam\n",
    "from sklearn.model_selection import train_test_split\n",
    "from sklearn.preprocessing import StandardScaler\n",
    "import pandas as pd\n",
    "import numpy as np\n",
    "import matplotlib.pyplot as plt"
   ]
  },
  {
   "cell_type": "markdown",
   "metadata": {},
   "source": [
    "## Importing Test dataset"
   ]
  },
  {
   "cell_type": "code",
   "execution_count": 2,
   "metadata": {},
   "outputs": [
    {
     "data": {
      "text/html": [
       "<div>\n",
       "<style scoped>\n",
       "    .dataframe tbody tr th:only-of-type {\n",
       "        vertical-align: middle;\n",
       "    }\n",
       "\n",
       "    .dataframe tbody tr th {\n",
       "        vertical-align: top;\n",
       "    }\n",
       "\n",
       "    .dataframe thead th {\n",
       "        text-align: right;\n",
       "    }\n",
       "</style>\n",
       "<table border=\"1\" class=\"dataframe\">\n",
       "  <thead>\n",
       "    <tr style=\"text-align: right;\">\n",
       "      <th></th>\n",
       "      <th>Disturbance Y/M/D (UT)</th>\n",
       "      <th>CME start_time</th>\n",
       "      <th>Vp</th>\n",
       "      <th>Vlat</th>\n",
       "      <th>Vfrt</th>\n",
       "      <th>Vsw</th>\n",
       "      <th>2aw</th>\n",
       "      <th>Tobs</th>\n",
       "    </tr>\n",
       "  </thead>\n",
       "  <tbody>\n",
       "    <tr>\n",
       "      <th>0</th>\n",
       "      <td>2000/02/20 2139</td>\n",
       "      <td>2000/02/17 2006</td>\n",
       "      <td>566.508044</td>\n",
       "      <td>452</td>\n",
       "      <td>82.5</td>\n",
       "      <td>460</td>\n",
       "      <td>92.0</td>\n",
       "      <td>73.55</td>\n",
       "    </tr>\n",
       "    <tr>\n",
       "      <th>1</th>\n",
       "      <td>2000/04/06 1639</td>\n",
       "      <td>2000/04/04 1632</td>\n",
       "      <td>865.890828</td>\n",
       "      <td>379</td>\n",
       "      <td>123.0</td>\n",
       "      <td>620</td>\n",
       "      <td>124.0</td>\n",
       "      <td>48.12</td>\n",
       "    </tr>\n",
       "    <tr>\n",
       "      <th>2</th>\n",
       "      <td>2000/04/18 2000</td>\n",
       "      <td>2000/04/15 1035</td>\n",
       "      <td>511.749775</td>\n",
       "      <td>409</td>\n",
       "      <td>100.5</td>\n",
       "      <td>470</td>\n",
       "      <td>94.0</td>\n",
       "      <td>81.42</td>\n",
       "    </tr>\n",
       "    <tr>\n",
       "      <th>3</th>\n",
       "      <td>2000/05/02 1045</td>\n",
       "      <td>2000/04/29 0430</td>\n",
       "      <td>532.481363</td>\n",
       "      <td>337</td>\n",
       "      <td>130.0</td>\n",
       "      <td>860</td>\n",
       "      <td>172.0</td>\n",
       "      <td>78.25</td>\n",
       "    </tr>\n",
       "    <tr>\n",
       "      <th>4</th>\n",
       "      <td>2000/05/13 1700</td>\n",
       "      <td>2000/05/10 2006</td>\n",
       "      <td>604.741171</td>\n",
       "      <td>237</td>\n",
       "      <td>98.0</td>\n",
       "      <td>600</td>\n",
       "      <td>120.0</td>\n",
       "      <td>68.90</td>\n",
       "    </tr>\n",
       "  </tbody>\n",
       "</table>\n",
       "</div>"
      ],
      "text/plain": [
       "  Disturbance Y/M/D (UT)    CME start_time          Vp  Vlat   Vfrt  Vsw  \\\n",
       "0        2000/02/20 2139  2000/02/17 2006   566.508044   452   82.5  460   \n",
       "1        2000/04/06 1639   2000/04/04 1632  865.890828   379  123.0  620   \n",
       "2        2000/04/18 2000   2000/04/15 1035  511.749775   409  100.5  470   \n",
       "3        2000/05/02 1045   2000/04/29 0430  532.481363   337  130.0  860   \n",
       "4        2000/05/13 1700   2000/05/10 2006  604.741171   237   98.0  600   \n",
       "\n",
       "     2aw   Tobs  \n",
       "0   92.0  73.55  \n",
       "1  124.0  48.12  \n",
       "2   94.0  81.42  \n",
       "3  172.0  78.25  \n",
       "4  120.0  68.90  "
      ]
     },
     "execution_count": 2,
     "metadata": {},
     "output_type": "execute_result"
    }
   ],
   "source": [
    "df = pd.read_excel(\"/media/mrk/Data/E-JUST/publication/Exp_speed/Exp_speed_new/data_set.xlsx\", sheet_name='FNN_train')\n",
    "df.head()"
   ]
  },
  {
   "cell_type": "markdown",
   "metadata": {},
   "source": [
    "### Selecting data features"
   ]
  },
  {
   "cell_type": "code",
   "execution_count": 3,
   "metadata": {},
   "outputs": [],
   "source": [
    "X = df[df.columns[2:-1]].values\n",
    "y = df[df.columns[-1]].values.reshape(-1,1)\n",
    "\n",
    "# print(X[:5])\n",
    "# print(y[:5])"
   ]
  },
  {
   "cell_type": "markdown",
   "metadata": {},
   "source": [
    "### Feature Scaling"
   ]
  },
  {
   "cell_type": "code",
   "execution_count": 4,
   "metadata": {},
   "outputs": [],
   "source": [
    "X_train, X_val, y_train, y_val = train_test_split(X, y, test_size=0.2, random_state=42)\n",
    "\n",
    "x_sc = StandardScaler()\n",
    "y_sc = StandardScaler()\n",
    "X_train = x_sc.fit_transform(X_train)\n",
    "X_val = x_sc.fit_transform(X_val)\n",
    "y_train = y_sc.fit_transform(y_train)\n",
    "y_val = y_sc.fit_transform(y_val)\n",
    "\n",
    "\n",
    "# print(X_train[:5])\n",
    "# print(y_train[:5])\n"
   ]
  },
  {
   "cell_type": "markdown",
   "metadata": {},
   "source": [
    "## Defining Neural Network model"
   ]
  },
  {
   "cell_type": "code",
   "execution_count": 11,
   "metadata": {},
   "outputs": [
    {
     "name": "stdout",
     "output_type": "stream",
     "text": [
      "Epoch 1/111\n"
     ]
    },
    {
     "name": "stderr",
     "output_type": "stream",
     "text": [
      "/home/mrk/miniconda3/envs/tf/lib/python3.10/site-packages/keras/src/layers/core/dense.py:87: UserWarning: Do not pass an `input_shape`/`input_dim` argument to a layer. When using Sequential models, prefer using an `Input(shape)` object as the first layer in the model instead.\n",
      "  super().__init__(activity_regularizer=activity_regularizer, **kwargs)\n"
     ]
    },
    {
     "name": "stdout",
     "output_type": "stream",
     "text": [
      "\u001b[1m55/55\u001b[0m \u001b[32m━━━━━━━━━━━━━━━━━━━━\u001b[0m\u001b[37m\u001b[0m \u001b[1m5s\u001b[0m 40ms/step - loss: 0.7807 - mae: 0.7807 - val_loss: 0.7386 - val_mae: 0.7386\n",
      "Epoch 2/111\n",
      "\u001b[1m55/55\u001b[0m \u001b[32m━━━━━━━━━━━━━━━━━━━━\u001b[0m\u001b[37m\u001b[0m \u001b[1m0s\u001b[0m 2ms/step - loss: 0.8088 - mae: 0.8088 - val_loss: 0.6875 - val_mae: 0.6875\n",
      "Epoch 3/111\n",
      "\u001b[1m55/55\u001b[0m \u001b[32m━━━━━━━━━━━━━━━━━━━━\u001b[0m\u001b[37m\u001b[0m \u001b[1m0s\u001b[0m 2ms/step - loss: 0.7439 - mae: 0.7439 - val_loss: 0.6249 - val_mae: 0.6249\n",
      "Epoch 4/111\n",
      "\u001b[1m55/55\u001b[0m \u001b[32m━━━━━━━━━━━━━━━━━━━━\u001b[0m\u001b[37m\u001b[0m \u001b[1m0s\u001b[0m 2ms/step - loss: 0.7153 - mae: 0.7153 - val_loss: 0.5504 - val_mae: 0.5504\n",
      "Epoch 5/111\n",
      "\u001b[1m55/55\u001b[0m \u001b[32m━━━━━━━━━━━━━━━━━━━━\u001b[0m\u001b[37m\u001b[0m \u001b[1m0s\u001b[0m 2ms/step - loss: 0.6047 - mae: 0.6047 - val_loss: 0.4695 - val_mae: 0.4695\n",
      "Epoch 6/111\n",
      "\u001b[1m55/55\u001b[0m \u001b[32m━━━━━━━━━━━━━━━━━━━━\u001b[0m\u001b[37m\u001b[0m \u001b[1m0s\u001b[0m 2ms/step - loss: 0.5236 - mae: 0.5236 - val_loss: 0.4172 - val_mae: 0.4172\n",
      "Epoch 7/111\n",
      "\u001b[1m55/55\u001b[0m \u001b[32m━━━━━━━━━━━━━━━━━━━━\u001b[0m\u001b[37m\u001b[0m \u001b[1m0s\u001b[0m 2ms/step - loss: 0.5117 - mae: 0.5117 - val_loss: 0.3784 - val_mae: 0.3784\n",
      "Epoch 8/111\n",
      "\u001b[1m55/55\u001b[0m \u001b[32m━━━━━━━━━━━━━━━━━━━━\u001b[0m\u001b[37m\u001b[0m \u001b[1m0s\u001b[0m 2ms/step - loss: 0.4227 - mae: 0.4227 - val_loss: 0.3458 - val_mae: 0.3458\n",
      "Epoch 9/111\n",
      "\u001b[1m55/55\u001b[0m \u001b[32m━━━━━━━━━━━━━━━━━━━━\u001b[0m\u001b[37m\u001b[0m \u001b[1m0s\u001b[0m 2ms/step - loss: 0.3524 - mae: 0.3524 - val_loss: 0.3138 - val_mae: 0.3138\n",
      "Epoch 10/111\n",
      "\u001b[1m55/55\u001b[0m \u001b[32m━━━━━━━━━━━━━━━━━━━━\u001b[0m\u001b[37m\u001b[0m \u001b[1m0s\u001b[0m 2ms/step - loss: 0.3254 - mae: 0.3254 - val_loss: 0.2755 - val_mae: 0.2755\n",
      "Epoch 11/111\n",
      "\u001b[1m55/55\u001b[0m \u001b[32m━━━━━━━━━━━━━━━━━━━━\u001b[0m\u001b[37m\u001b[0m \u001b[1m0s\u001b[0m 2ms/step - loss: 0.2996 - mae: 0.2996 - val_loss: 0.2382 - val_mae: 0.2382\n",
      "Epoch 12/111\n",
      "\u001b[1m55/55\u001b[0m \u001b[32m━━━━━━━━━━━━━━━━━━━━\u001b[0m\u001b[37m\u001b[0m \u001b[1m0s\u001b[0m 3ms/step - loss: 0.2911 - mae: 0.2911 - val_loss: 0.2010 - val_mae: 0.2010\n",
      "Epoch 13/111\n",
      "\u001b[1m55/55\u001b[0m \u001b[32m━━━━━━━━━━━━━━━━━━━━\u001b[0m\u001b[37m\u001b[0m \u001b[1m0s\u001b[0m 2ms/step - loss: 0.2548 - mae: 0.2548 - val_loss: 0.1771 - val_mae: 0.1771\n",
      "Epoch 14/111\n",
      "\u001b[1m55/55\u001b[0m \u001b[32m━━━━━━━━━━━━━━━━━━━━\u001b[0m\u001b[37m\u001b[0m \u001b[1m0s\u001b[0m 2ms/step - loss: 0.2408 - mae: 0.2408 - val_loss: 0.1549 - val_mae: 0.1549\n",
      "Epoch 15/111\n",
      "\u001b[1m55/55\u001b[0m \u001b[32m━━━━━━━━━━━━━━━━━━━━\u001b[0m\u001b[37m\u001b[0m \u001b[1m0s\u001b[0m 2ms/step - loss: 0.2489 - mae: 0.2489 - val_loss: 0.1540 - val_mae: 0.1540\n",
      "Epoch 16/111\n",
      "\u001b[1m55/55\u001b[0m \u001b[32m━━━━━━━━━━━━━━━━━━━━\u001b[0m\u001b[37m\u001b[0m \u001b[1m0s\u001b[0m 2ms/step - loss: 0.2118 - mae: 0.2118 - val_loss: 0.1567 - val_mae: 0.1567\n",
      "Epoch 17/111\n",
      "\u001b[1m55/55\u001b[0m \u001b[32m━━━━━━━━━━━━━━━━━━━━\u001b[0m\u001b[37m\u001b[0m \u001b[1m0s\u001b[0m 2ms/step - loss: 0.1822 - mae: 0.1822 - val_loss: 0.1396 - val_mae: 0.1396\n",
      "Epoch 18/111\n",
      "\u001b[1m55/55\u001b[0m \u001b[32m━━━━━━━━━━━━━━━━━━━━\u001b[0m\u001b[37m\u001b[0m \u001b[1m0s\u001b[0m 2ms/step - loss: 0.2449 - mae: 0.2449 - val_loss: 0.1396 - val_mae: 0.1396\n",
      "Epoch 19/111\n",
      "\u001b[1m55/55\u001b[0m \u001b[32m━━━━━━━━━━━━━━━━━━━━\u001b[0m\u001b[37m\u001b[0m \u001b[1m0s\u001b[0m 2ms/step - loss: 0.2553 - mae: 0.2553 - val_loss: 0.1309 - val_mae: 0.1309\n",
      "Epoch 20/111\n",
      "\u001b[1m55/55\u001b[0m \u001b[32m━━━━━━━━━━━━━━━━━━━━\u001b[0m\u001b[37m\u001b[0m \u001b[1m0s\u001b[0m 2ms/step - loss: 0.1936 - mae: 0.1936 - val_loss: 0.1249 - val_mae: 0.1249\n",
      "Epoch 21/111\n",
      "\u001b[1m55/55\u001b[0m \u001b[32m━━━━━━━━━━━━━━━━━━━━\u001b[0m\u001b[37m\u001b[0m \u001b[1m0s\u001b[0m 2ms/step - loss: 0.2054 - mae: 0.2054 - val_loss: 0.1223 - val_mae: 0.1223\n",
      "Epoch 22/111\n",
      "\u001b[1m55/55\u001b[0m \u001b[32m━━━━━━━━━━━━━━━━━━━━\u001b[0m\u001b[37m\u001b[0m \u001b[1m0s\u001b[0m 2ms/step - loss: 0.1975 - mae: 0.1975 - val_loss: 0.1269 - val_mae: 0.1269\n",
      "Epoch 23/111\n",
      "\u001b[1m55/55\u001b[0m \u001b[32m━━━━━━━━━━━━━━━━━━━━\u001b[0m\u001b[37m\u001b[0m \u001b[1m0s\u001b[0m 2ms/step - loss: 0.1766 - mae: 0.1766 - val_loss: 0.1124 - val_mae: 0.1124\n",
      "Epoch 24/111\n",
      "\u001b[1m55/55\u001b[0m \u001b[32m━━━━━━━━━━━━━━━━━━━━\u001b[0m\u001b[37m\u001b[0m \u001b[1m0s\u001b[0m 2ms/step - loss: 0.1960 - mae: 0.1960 - val_loss: 0.1249 - val_mae: 0.1249\n",
      "Epoch 25/111\n",
      "\u001b[1m55/55\u001b[0m \u001b[32m━━━━━━━━━━━━━━━━━━━━\u001b[0m\u001b[37m\u001b[0m \u001b[1m0s\u001b[0m 2ms/step - loss: 0.2063 - mae: 0.2063 - val_loss: 0.1234 - val_mae: 0.1234\n",
      "Epoch 26/111\n",
      "\u001b[1m55/55\u001b[0m \u001b[32m━━━━━━━━━━━━━━━━━━━━\u001b[0m\u001b[37m\u001b[0m \u001b[1m0s\u001b[0m 2ms/step - loss: 0.1890 - mae: 0.1890 - val_loss: 0.1099 - val_mae: 0.1099\n",
      "Epoch 27/111\n",
      "\u001b[1m55/55\u001b[0m \u001b[32m━━━━━━━━━━━━━━━━━━━━\u001b[0m\u001b[37m\u001b[0m \u001b[1m0s\u001b[0m 2ms/step - loss: 0.1784 - mae: 0.1784 - val_loss: 0.1381 - val_mae: 0.1381\n",
      "Epoch 28/111\n",
      "\u001b[1m55/55\u001b[0m \u001b[32m━━━━━━━━━━━━━━━━━━━━\u001b[0m\u001b[37m\u001b[0m \u001b[1m0s\u001b[0m 2ms/step - loss: 0.1804 - mae: 0.1804 - val_loss: 0.1536 - val_mae: 0.1536\n",
      "Epoch 29/111\n",
      "\u001b[1m55/55\u001b[0m \u001b[32m━━━━━━━━━━━━━━━━━━━━\u001b[0m\u001b[37m\u001b[0m \u001b[1m0s\u001b[0m 2ms/step - loss: 0.1680 - mae: 0.1680 - val_loss: 0.1240 - val_mae: 0.1240\n",
      "Epoch 30/111\n",
      "\u001b[1m55/55\u001b[0m \u001b[32m━━━━━━━━━━━━━━━━━━━━\u001b[0m\u001b[37m\u001b[0m \u001b[1m0s\u001b[0m 2ms/step - loss: 0.1828 - mae: 0.1828 - val_loss: 0.1202 - val_mae: 0.1202\n",
      "Epoch 31/111\n",
      "\u001b[1m55/55\u001b[0m \u001b[32m━━━━━━━━━━━━━━━━━━━━\u001b[0m\u001b[37m\u001b[0m \u001b[1m0s\u001b[0m 2ms/step - loss: 0.1759 - mae: 0.1759 - val_loss: 0.1375 - val_mae: 0.1375\n",
      "Epoch 32/111\n",
      "\u001b[1m55/55\u001b[0m \u001b[32m━━━━━━━━━━━━━━━━━━━━\u001b[0m\u001b[37m\u001b[0m \u001b[1m0s\u001b[0m 2ms/step - loss: 0.1848 - mae: 0.1848 - val_loss: 0.1208 - val_mae: 0.1208\n",
      "Epoch 33/111\n",
      "\u001b[1m55/55\u001b[0m \u001b[32m━━━━━━━━━━━━━━━━━━━━\u001b[0m\u001b[37m\u001b[0m \u001b[1m0s\u001b[0m 2ms/step - loss: 0.1614 - mae: 0.1614 - val_loss: 0.1265 - val_mae: 0.1265\n",
      "Epoch 34/111\n",
      "\u001b[1m55/55\u001b[0m \u001b[32m━━━━━━━━━━━━━━━━━━━━\u001b[0m\u001b[37m\u001b[0m \u001b[1m0s\u001b[0m 2ms/step - loss: 0.1807 - mae: 0.1807 - val_loss: 0.1535 - val_mae: 0.1535\n",
      "Epoch 35/111\n",
      "\u001b[1m55/55\u001b[0m \u001b[32m━━━━━━━━━━━━━━━━━━━━\u001b[0m\u001b[37m\u001b[0m \u001b[1m0s\u001b[0m 2ms/step - loss: 0.1639 - mae: 0.1639 - val_loss: 0.1080 - val_mae: 0.1080\n",
      "Epoch 36/111\n",
      "\u001b[1m55/55\u001b[0m \u001b[32m━━━━━━━━━━━━━━━━━━━━\u001b[0m\u001b[37m\u001b[0m \u001b[1m0s\u001b[0m 2ms/step - loss: 0.1982 - mae: 0.1982 - val_loss: 0.0964 - val_mae: 0.0964\n",
      "Epoch 37/111\n",
      "\u001b[1m55/55\u001b[0m \u001b[32m━━━━━━━━━━━━━━━━━━━━\u001b[0m\u001b[37m\u001b[0m \u001b[1m0s\u001b[0m 2ms/step - loss: 0.1602 - mae: 0.1602 - val_loss: 0.0969 - val_mae: 0.0969\n",
      "Epoch 38/111\n",
      "\u001b[1m55/55\u001b[0m \u001b[32m━━━━━━━━━━━━━━━━━━━━\u001b[0m\u001b[37m\u001b[0m \u001b[1m0s\u001b[0m 2ms/step - loss: 0.2018 - mae: 0.2018 - val_loss: 0.1148 - val_mae: 0.1148\n",
      "Epoch 39/111\n",
      "\u001b[1m55/55\u001b[0m \u001b[32m━━━━━━━━━━━━━━━━━━━━\u001b[0m\u001b[37m\u001b[0m \u001b[1m0s\u001b[0m 2ms/step - loss: 0.1909 - mae: 0.1909 - val_loss: 0.1090 - val_mae: 0.1090\n",
      "Epoch 40/111\n",
      "\u001b[1m55/55\u001b[0m \u001b[32m━━━━━━━━━━━━━━━━━━━━\u001b[0m\u001b[37m\u001b[0m \u001b[1m0s\u001b[0m 2ms/step - loss: 0.1895 - mae: 0.1895 - val_loss: 0.0977 - val_mae: 0.0977\n",
      "Epoch 41/111\n",
      "\u001b[1m55/55\u001b[0m \u001b[32m━━━━━━━━━━━━━━━━━━━━\u001b[0m\u001b[37m\u001b[0m \u001b[1m0s\u001b[0m 2ms/step - loss: 0.1738 - mae: 0.1738 - val_loss: 0.1025 - val_mae: 0.1025\n",
      "Epoch 42/111\n",
      "\u001b[1m55/55\u001b[0m \u001b[32m━━━━━━━━━━━━━━━━━━━━\u001b[0m\u001b[37m\u001b[0m \u001b[1m0s\u001b[0m 2ms/step - loss: 0.1459 - mae: 0.1459 - val_loss: 0.1257 - val_mae: 0.1257\n",
      "Epoch 43/111\n",
      "\u001b[1m55/55\u001b[0m \u001b[32m━━━━━━━━━━━━━━━━━━━━\u001b[0m\u001b[37m\u001b[0m \u001b[1m0s\u001b[0m 2ms/step - loss: 0.1788 - mae: 0.1788 - val_loss: 0.1029 - val_mae: 0.1029\n",
      "Epoch 44/111\n",
      "\u001b[1m55/55\u001b[0m \u001b[32m━━━━━━━━━━━━━━━━━━━━\u001b[0m\u001b[37m\u001b[0m \u001b[1m0s\u001b[0m 2ms/step - loss: 0.1643 - mae: 0.1643 - val_loss: 0.1116 - val_mae: 0.1116\n",
      "Epoch 45/111\n",
      "\u001b[1m55/55\u001b[0m \u001b[32m━━━━━━━━━━━━━━━━━━━━\u001b[0m\u001b[37m\u001b[0m \u001b[1m0s\u001b[0m 2ms/step - loss: 0.1874 - mae: 0.1874 - val_loss: 0.1187 - val_mae: 0.1187\n",
      "Epoch 46/111\n",
      "\u001b[1m55/55\u001b[0m \u001b[32m━━━━━━━━━━━━━━━━━━━━\u001b[0m\u001b[37m\u001b[0m \u001b[1m0s\u001b[0m 2ms/step - loss: 0.1518 - mae: 0.1518 - val_loss: 0.1223 - val_mae: 0.1223\n"
     ]
    },
    {
     "data": {
      "image/png": "[encoded data removed]",
      "text/plain": [
       "<Figure size 640x480 with 1 Axes>"
      ]
     },
     "metadata": {},
     "output_type": "display_data"
    }
   ],
   "source": [
    "model = tf.keras.Sequential([\n",
    "        tf.keras.layers.Dense(62, activation ='leaky_relu', input_shape=(5,)),\n",
    "        tf.keras.layers.Dropout(0.1),\n",
    "        tf.keras.layers.Dense(40, activation ='leaky_relu'),\n",
    "        tf.keras.layers.Dropout(0.1),\n",
    "        tf.keras.layers.Dense(35, activation ='leaky_relu'),\n",
    "        tf.keras.layers.Dropout(0.1),\n",
    "        tf.keras.layers.Dense(62, activation ='leaky_relu'),\n",
    "        tf.keras.layers.Dropout(0.1),\n",
    "        tf.keras.layers.Dense(1, activation  ='linear')\n",
    "])\n",
    "\n",
    "model.compile(optimizer= Adam(learning_rate=0.0001), loss = 'mae', metrics=['mae'])\n",
    "early_stopping = tf.keras.callbacks.EarlyStopping(monitor='val_loss', patience=10, restore_best_weights=True)\n",
    "history = model.fit(X_train, y_train, epochs=111, batch_size=3, validation_data=(X_val, y_val), callbacks=[early_stopping])\n",
    "\n",
    "\n",
    "def plot_history(history):\n",
    "  plt.plot(history.history['loss'], label='train_loss')\n",
    "  plt.plot(history.history['val_loss'], label='val_loss')\n",
    "  plt.xlabel('Epochs')\n",
    "  plt.ylabel('Mean absolute error (hrs)')\n",
    "  plt.legend(frameon=0)\n",
    "  plt.grid(True, alpha=0.3)\n",
    "\n",
    "  # Find the minimum validation loss epoch\n",
    "  min_val_loss_epoch = np.argmin(history.history['val_loss'])\n",
    "  min_val_loss = history.history['val_loss'][min_val_loss_epoch]\n",
    "\n",
    "  # Draw a vertical dashed line at the minimum validation loss epoch\n",
    "  plt.axvline(x=min_val_loss_epoch, color='r', linestyle='dashed', linewidth=1, label='Min Val Loss')\n",
    "  plt.legend(frameon=0)\n",
    "\n",
    "  plt.show()\n",
    "display = plot_history(history)\n"
   ]
  },
  {
   "cell_type": "markdown",
   "metadata": {},
   "source": [
    "## Test dataset"
   ]
  },
  {
   "cell_type": "markdown",
   "metadata": {},
   "source": [
    "### Loading test data"
   ]
  },
  {
   "cell_type": "code",
   "execution_count": 110,
   "metadata": {},
   "outputs": [
    {
     "data": {
      "text/html": [
       "<div>\n",
       "<style scoped>\n",
       "    .dataframe tbody tr th:only-of-type {\n",
       "        vertical-align: middle;\n",
       "    }\n",
       "\n",
       "    .dataframe tbody tr th {\n",
       "        vertical-align: top;\n",
       "    }\n",
       "\n",
       "    .dataframe thead th {\n",
       "        text-align: right;\n",
       "    }\n",
       "</style>\n",
       "<table border=\"1\" class=\"dataframe\">\n",
       "  <thead>\n",
       "    <tr style=\"text-align: right;\">\n",
       "      <th></th>\n",
       "      <th>Disturbance Y/M/D (UT)</th>\n",
       "      <th>CME start_time</th>\n",
       "      <th>Vt</th>\n",
       "      <th>Vlat</th>\n",
       "      <th>Vfrt</th>\n",
       "      <th>Vsw</th>\n",
       "      <th>2aw</th>\n",
       "      <th>Tobs</th>\n",
       "    </tr>\n",
       "  </thead>\n",
       "  <tbody>\n",
       "    <tr>\n",
       "      <th>0</th>\n",
       "      <td>2000/01/22 0023</td>\n",
       "      <td>2000/01/18 1754</td>\n",
       "      <td>530.920829</td>\n",
       "      <td>266</td>\n",
       "      <td>85.5</td>\n",
       "      <td>400</td>\n",
       "      <td>80</td>\n",
       "      <td>78.48</td>\n",
       "    </tr>\n",
       "    <tr>\n",
       "      <th>1</th>\n",
       "      <td>2000/02/11 0258</td>\n",
       "      <td>2000/02/08 0930</td>\n",
       "      <td>636.423807</td>\n",
       "      <td>294</td>\n",
       "      <td>94.5</td>\n",
       "      <td>510</td>\n",
       "      <td>102</td>\n",
       "      <td>65.47</td>\n",
       "    </tr>\n",
       "    <tr>\n",
       "      <th>2</th>\n",
       "      <td>2000/02/11 2352</td>\n",
       "      <td>2000/02/10 0230</td>\n",
       "      <td>918.374844</td>\n",
       "      <td>378</td>\n",
       "      <td>121.5</td>\n",
       "      <td>590</td>\n",
       "      <td>118</td>\n",
       "      <td>45.37</td>\n",
       "    </tr>\n",
       "    <tr>\n",
       "      <th>3</th>\n",
       "      <td>2000/02/14 0731</td>\n",
       "      <td>2000/02/12 0431</td>\n",
       "      <td>816.993464</td>\n",
       "      <td>364</td>\n",
       "      <td>117.0</td>\n",
       "      <td>680</td>\n",
       "      <td>136</td>\n",
       "      <td>51.00</td>\n",
       "    </tr>\n",
       "    <tr>\n",
       "      <th>4</th>\n",
       "      <td>2001/01/23 1048</td>\n",
       "      <td>2001/01/20 2130</td>\n",
       "      <td>679.717238</td>\n",
       "      <td>280</td>\n",
       "      <td>90.0</td>\n",
       "      <td>550</td>\n",
       "      <td>110</td>\n",
       "      <td>61.30</td>\n",
       "    </tr>\n",
       "  </tbody>\n",
       "</table>\n",
       "</div>"
      ],
      "text/plain": [
       "  Disturbance Y/M/D (UT)    CME start_time          Vt  Vlat   Vfrt  Vsw  2aw  \\\n",
       "0        2000/01/22 0023  2000/01/18 1754   530.920829   266   85.5  400   80   \n",
       "1        2000/02/11 0258   2000/02/08 0930  636.423807   294   94.5  510  102   \n",
       "2        2000/02/11 2352  2000/02/10 0230   918.374844   378  121.5  590  118   \n",
       "3        2000/02/14 0731  2000/02/12 0431   816.993464   364  117.0  680  136   \n",
       "4        2001/01/23 1048   2001/01/20 2130  679.717238   280   90.0  550  110   \n",
       "\n",
       "    Tobs  \n",
       "0  78.48  \n",
       "1  65.47  \n",
       "2  45.37  \n",
       "3  51.00  \n",
       "4  61.30  "
      ]
     },
     "execution_count": 110,
     "metadata": {},
     "output_type": "execute_result"
    }
   ],
   "source": [
    "df1 = pd.read_excel(\"/media/mrk/Data/E-JUST/publication/Exp_speed/Exp_speed_new/data_set.xlsx\", sheet_name='FNN_test')\n",
    "df1.head()"
   ]
  },
  {
   "cell_type": "markdown",
   "metadata": {},
   "source": [
    "### Feature selecting and scaling"
   ]
  },
  {
   "cell_type": "code",
   "execution_count": 111,
   "metadata": {},
   "outputs": [
    {
     "name": "stdout",
     "output_type": "stream",
     "text": [
      "[[-0.63 -0.63 -0.92 -1.12 -1.12]\n",
      " [-0.05 -0.2  -0.44 -0.16 -0.16]\n",
      " [ 1.49  1.08  1.02  0.54  0.54]\n",
      " [ 0.94  0.87  0.78  1.32  1.32]\n",
      " [ 0.19 -0.41 -0.68  0.19  0.19]]\n",
      "\n",
      "[[ 0.36]\n",
      " [-0.23]\n",
      " [-1.15]\n",
      " [-0.9 ]\n",
      " [-0.42]]\n"
     ]
    }
   ],
   "source": [
    "X_test = df1[df1.columns[2:-1]].values\n",
    "y_test = df1[df1.columns[-1]].values.reshape(-1,1)\n",
    "\n",
    "\n",
    "X_test = x_sc.fit_transform(X_test)\n",
    "y_test = y_sc.fit_transform(y_test)\n",
    "print(X_test[:5])\n",
    "print()\n",
    "print(y_test[:5])"
   ]
  },
  {
   "cell_type": "markdown",
   "metadata": {},
   "source": [
    "### Predicting test data with Neural Network"
   ]
  },
  {
   "cell_type": "code",
   "execution_count": 114,
   "metadata": {},
   "outputs": [
    {
     "name": "stdout",
     "output_type": "stream",
     "text": [
      "\u001b[1m2/2\u001b[0m \u001b[32m━━━━━━━━━━━━━━━━━━━━\u001b[0m\u001b[37m\u001b[0m \u001b[1m0s\u001b[0m 2ms/step \n",
      "R2 score: 0.9431530841859033\n",
      "mean absolute error = 3.8392450378417973\n"
     ]
    }
   ],
   "source": [
    "from sklearn.metrics import r2_score\n",
    "import random\n",
    "random.seed(1234)\n",
    "\n",
    "\n",
    "y_pred = model.predict(X_test)\n",
    "\n",
    "\n",
    "print('R2 score:', r2_score(y_test, y_pred))\n",
    "print('mean absolute error =', np.mean(np.abs(y_sc.inverse_transform(y_pred)-y_sc.inverse_transform(y_test))))"
   ]
  },
  {
   "cell_type": "code",
   "execution_count": 113,
   "metadata": {},
   "outputs": [],
   "source": [
    "df1['Tfnn'] = y_sc.inverse_transform(y_pred)\n",
    "# df1.to_excel('/home/mrk/Desktop/time.xlsx', index=False)"
   ]
  },
  {
   "cell_type": "markdown",
   "metadata": {},
   "source": [
    "### Comparing true values and predicted values"
   ]
  },
  {
   "cell_type": "code",
   "execution_count": 107,
   "metadata": {},
   "outputs": [
    {
     "name": "stdout",
     "output_type": "stream",
     "text": [
      "[[ 85.19  78.48]\n",
      " [ 63.72  65.47]\n",
      " [ 44.09  45.37]\n",
      " [ 48.81  51.  ]\n",
      " [ 58.82  61.3 ]\n",
      " [ 69.31  68.52]\n",
      " [ 87.27  79.4 ]\n",
      " [ 47.    48.68]\n",
      " [ 46.05  47.7 ]\n",
      " [ 41.48  45.9 ]\n",
      " [ 47.71  50.98]\n",
      " [ 35.27  41.58]\n",
      " [ 47.1   49.52]\n",
      " [ 56.76  57.52]\n",
      " [ 43.21  45.08]\n",
      " [ 46.88  46.7 ]\n",
      " [ 58.7   58.52]\n",
      " [ 91.56  87.1 ]\n",
      " [ 49.54  52.7 ]\n",
      " [ 48.82  50.82]\n",
      " [110.41  99.08]\n",
      " [118.07 109.  ]\n",
      " [ 85.15  77.5 ]\n",
      " [103.62  92.1 ]\n",
      " [114.51 104.25]\n",
      " [ 70.39  71.1 ]\n",
      " [ 70.23  69.32]\n",
      " [125.63 123.23]\n",
      " [ 55.46  53.87]\n",
      " [ 61.25  63.4 ]\n",
      " [105.55 104.6 ]\n",
      " [ 43.07  46.78]\n",
      " [ 55.83  56.2 ]\n",
      " [108.18 110.18]\n",
      " [105.33  99.07]\n",
      " [ 51.49  50.95]\n",
      " [102.29  91.8 ]\n",
      " [109.01  97.47]\n",
      " [116.19 106.57]\n",
      " [ 49.91  51.18]\n",
      " [115.7  107.2 ]\n",
      " [ 55.89  57.77]\n",
      " [ 60.48  62.6 ]\n",
      " [ 65.86  66.62]\n",
      " [ 88.61  80.42]\n",
      " [ 49.37  50.87]\n",
      " [ 72.51  70.73]\n",
      " [ 79.66  79.  ]\n",
      " [ 65.96  66.32]\n",
      " [ 82.49  76.02]]\n"
     ]
    }
   ],
   "source": [
    "random.seed(1234)\n",
    "np.set_printoptions(precision=2)\n",
    "\n",
    "y_test = y_sc.inverse_transform(y_test)\n",
    "y_pred = y_sc.inverse_transform(y_pred)\n",
    "\n",
    "print(np.concatenate((y_pred.reshape(-1,1), y_test.reshape(-1,1)), 1))"
   ]
  },
  {
   "cell_type": "code",
   "execution_count": 116,
   "metadata": {},
   "outputs": [],
   "source": [
    "\n",
    "# model.save('/media/mrk/Data/E-JUST/publication/Exp_speed/Exp_speed_new.keras')"
   ]
  }
 ],
 "metadata": {
  "kernelspec": {
   "display_name": "tf",
   "language": "python",
   "name": "python3"
  },
  "language_info": {
   "codemirror_mode": {
    "name": "ipython",
    "version": 3
   },
   "file_extension": ".py",
   "mimetype": "text/x-python",
   "name": "python",
   "nbconvert_exporter": "python",
   "pygments_lexer": "ipython3",
   "version": "3.10.0"
  }
 },
 "nbformat": 4,
 "nbformat_minor": 2
}
