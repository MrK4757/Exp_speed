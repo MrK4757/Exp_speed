{
 "cells": [
  {
   "cell_type": "code",
   "execution_count": 10,
   "metadata": {},
   "outputs": [
    {
     "name": "stdout",
     "output_type": "stream",
     "text": [
      "\n",
      " equation 1 speed = 1079.9368\n",
      "equation 1 time = 38.582504704596296\n",
      " equation 2 speed = 1223.9694000000002\n",
      "equation 2 time = 34.042245391646766\n",
      " equation 3 speed = 508.51110000000006\n",
      "equation 3 time = 81.93855879776599\n",
      " equation 4 speed = 661.3465\n",
      "equation 4 time = 63.002777918483986\n"
     ]
    }
   ],
   "source": [
    "#  Equation for Vlat, Vblk, and Vfrt\n",
    "# For the solar wind speed the '+ -' can be used\n",
    "\n",
    "def eqn1(vlat, vblk, vfrt, vsw):\n",
    "    Vlat = vlat * 0.1786\n",
    "    Vblk = vblk * 0.7210\n",
    "    Vfrt = vfrt * 0.4994\n",
    "    k = 155.425\n",
    "    Vsw = vsw\n",
    "    Vp = Vlat + Vblk + Vfrt + Vsw + k\n",
    "    print(f\" equation 1 speed = {Vp}\")\n",
    "    return 150000000/(Vp*3600)\n",
    "\n",
    "\n",
    "\n",
    "# Equation for Vlat, Vblk, Vfrt, AW. \n",
    "# For the solar wind speed the '+ -' can be used\n",
    "\n",
    "def eqn2(vlat, vblk, vfrt, aw, vsw):\n",
    "    Vlat = vlat * 0.1613\n",
    "    Vblk = vblk * 0.5703\n",
    "    Vfrt = vfrt * 0.4815\n",
    "    AW = aw * 0.5612\n",
    "    Vsw = vsw\n",
    "    k = 140.0921\n",
    "    Vp = Vlat + Vblk + Vfrt + AW + Vsw + k\n",
    "    print(f\" equation 2 speed = {Vp}\")\n",
    "    return 150000000/(Vp*3600)\n",
    "\n",
    "\n",
    "# equation for  Vlat, Vblk, Vfrt and Vsw\n",
    "\n",
    "def eqn3(vlat, vblk, vfrt, vsw):\n",
    "    Vlat = vlat * 0.1887\n",
    "    Vblk = vblk * 0.6749\n",
    "    Vfrt = vfrt * 0.5071\n",
    "    Vsw = vsw * 0.7067 # Vsw is -ve so it should be subtracted from the eqn.\n",
    "    k = 444.9730\n",
    "    Vp = Vlat + Vblk + Vfrt - Vsw + k\n",
    "    print(f\" equation 3 speed = {Vp}\")\n",
    "    return 150000000/(Vp*3600)\n",
    "\n",
    "\n",
    "# Equation for Vlat, Vblk, Vfrnt, AW and Vsw independent variables\n",
    "\n",
    "def eqn4(vlat, vblk, vfrt, aw, vsw):\n",
    "    Vlat = vlat * 0.1695\n",
    "    Vblk = vblk * 0.5461\n",
    "    Vfrt = vfrt * 0.4881\n",
    "    AW = aw * 0.5283\n",
    "    Vsw = vsw * 0.5073 # Vsw is -ve so it should be subtracted from the eqn.\n",
    "    k = 348.8272\n",
    "    Vp = Vlat + Vblk + Vfrt + AW - Vsw + k\n",
    "    print(f\" equation 4 speed = {Vp}\")\n",
    "    return 150000000/(Vp*3600)\n",
    "\n",
    "print()\n",
    "time1 = eqn1(1280, 111, 212, 510)\n",
    "print(f\"equation 1 time = {time1}\")\n",
    "time2 = eqn2(1280, 111, 212, 360, 510)\n",
    "print(f\"equation 2 time = {time2}\")\n",
    "time3 =eqn3(1280, 111, 212, 510)\n",
    "print(f\"equation 3 time = {time3}\")\n",
    "time4 = eqn4(1280, 111, 212, 360, 510)\n",
    "print(f\"equation 4 time = {time4}\")"
   ]
  }
 ],
 "metadata": {
  "kernelspec": {
   "display_name": "tf",
   "language": "python",
   "name": "python3"
  },
  "language_info": {
   "codemirror_mode": {
    "name": "ipython",
    "version": 3
   },
   "file_extension": ".py",
   "mimetype": "text/x-python",
   "name": "python",
   "nbconvert_exporter": "python",
   "pygments_lexer": "ipython3",
   "version": "3.9.13"
  }
 },
 "nbformat": 4,
 "nbformat_minor": 2
}
